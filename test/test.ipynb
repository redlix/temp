{
 "cells": [
  {
   "cell_type": "code",
   "execution_count": 1,
   "metadata": {
    "collapsed": true,
    "jupyter": {
     "outputs_hidden": true
    }
   },
   "outputs": [
    {
     "name": "stdout",
     "output_type": "stream",
     "text": [
      "True\n"
     ]
    }
   ],
   "source": [
    "if -1:\n",
    "\tprint(True)\n",
    "else:\n",
    "\tprint(False)\n",
    "\n"
   ]
  },
  {
   "cell_type": "code",
   "execution_count": 2,
   "metadata": {
    "collapsed": false,
    "jupyter": {
     "outputs_hidden": false
    },
    "pycharm": {
     "name": "#%%\n"
    }
   },
   "outputs": [
    {
     "name": "stdout",
     "output_type": "stream",
     "text": [
      "False\n"
     ]
    }
   ],
   "source": [
    "if 0:\n",
    "\tprint(True)\n",
    "else:\n",
    "\tprint(False)"
   ]
  },
  {
   "cell_type": "code",
   "execution_count": 4,
   "metadata": {
    "collapsed": false,
    "jupyter": {
     "outputs_hidden": false
    },
    "pycharm": {
     "name": "#%%\n"
    }
   },
   "outputs": [
    {
     "name": "stdout",
     "output_type": "stream",
     "text": [
      "False\n"
     ]
    }
   ],
   "source": [
    "if []:\n",
    "\tprint(True)\n",
    "else:\n",
    "\tprint(False)\n"
   ]
  },
  {
   "cell_type": "code",
   "execution_count": 7,
   "metadata": {
    "collapsed": false,
    "jupyter": {
     "outputs_hidden": false
    },
    "pycharm": {
     "name": "#%%\n"
    }
   },
   "outputs": [
    {
     "name": "stdout",
     "output_type": "stream",
     "text": [
      "[1, 2, 3, 4, 5, 6]\n",
      "[1, 2, 3, 4, 5, 6]\n",
      "[1, 2, 3]\n"
     ]
    }
   ],
   "source": [
    "l1 = [1,2,3]\n",
    "l2 = [4,5,6]\n",
    "l1.extend(l2)\n",
    "print(l1)\n",
    "\n",
    "l1 = [1,2,3]\n",
    "l2 = [4,5,6]\n",
    "print(l1 + l2)\n",
    "\n",
    "print(l1)"
   ]
  },
  {
   "cell_type": "code",
   "execution_count": 12,
   "metadata": {
    "collapsed": false,
    "jupyter": {
     "outputs_hidden": false
    },
    "pycharm": {
     "name": "#%%\n"
    }
   },
   "outputs": [
    {
     "data": {
      "text/plain": [
       "<staticmethod at 0x112c55050>"
      ]
     },
     "execution_count": 12,
     "metadata": {},
     "output_type": "execute_result"
    }
   ],
   "source": [
    "staticmethod(len('1'))\n"
   ]
  },
  {
   "cell_type": "code",
   "execution_count": 8,
   "metadata": {
    "collapsed": false,
    "jupyter": {
     "outputs_hidden": false
    },
    "pycharm": {
     "name": "#%%\n"
    }
   },
   "outputs": [
    {
     "name": "stdout",
     "output_type": "stream",
     "text": [
      "True\n",
      "True\n",
      "True\n",
      "True\n",
      "True\n",
      "True\n"
     ]
    }
   ],
   "source": [
    "for s in [u'asd', 'asd']:\n",
    "    print(isinstance(s, str)) # 用来判断是否为一般字符串\n",
    "    print(isinstance(s, str))\n",
    "    print(isinstance(s, str)) # 用来判断是否为unicode\n"
   ]
  },
  {
   "cell_type": "code",
   "execution_count": 11,
   "metadata": {},
   "outputs": [
    {
     "name": "stdout",
     "output_type": "stream",
     "text": [
      "3\n",
      "<class 'dict'>\n",
      "{\"0\": \"10.0.2.13-0\", \"1\": \"10.0.2.7-0\", \"2\": \"10.0.2.16-0\"}\n"
     ]
    }
   ],
   "source": [
    "s = {'0': '10.0.2.13-0', '1': '10.0.2.7-0', '2': '10.0.2.16-0'}\n",
    "print(len(s))\n",
    "print(type(s))\n",
    "\n",
    "import json\n",
    "\n",
    "print(json.dumps(s))"
   ]
  },
  {
   "cell_type": "code",
   "execution_count": 17,
   "metadata": {},
   "outputs": [
    {
     "name": "stdout",
     "output_type": "stream",
     "text": [
      "{\"0\": \"10.0.2.11-0\", \"1\": \"10.0.2.2-0\", \"2\": \"10.0.2.6-0\"}\n",
      "{'0': '10.0.2.11-0', '1': '10.0.2.2-0', '2': '10.0.2.6-0'}\n"
     ]
    }
   ],
   "source": [
    "s = {'0': '10.0.2.11-0', '1': '10.0.2.2-0', '2': '10.0.2.6-0'}\n",
    "ss = json.dumps(s)\n",
    "print(ss)\n",
    "print(json.loads(ss))"
   ]
  },
  {
   "cell_type": "code",
   "execution_count": 19,
   "metadata": {},
   "outputs": [
    {
     "name": "stdout",
     "output_type": "stream",
     "text": [
      "{'0': '10.0.2.13-0', '1': '10.0.2.7-0', '2': '10.0.2.16-0'}\n",
      "<class 'dict'>\n"
     ]
    }
   ],
   "source": [
    "s = '{\"0\": \"10.0.2.13-0\", \"1\": \"10.0.2.7-0\", \"2\": \"10.0.2.16-0\"}'\n",
    "print(json.loads(s))\n",
    "print(type(json.loads(s)))"
   ]
  },
  {
   "cell_type": "code",
   "execution_count": null,
   "metadata": {},
   "outputs": [],
   "source": []
  }
 ],
 "metadata": {
  "kernelspec": {
   "display_name": "Python 3",
   "language": "python",
   "name": "python3"
  },
  "language_info": {
   "codemirror_mode": {
    "name": "ipython",
    "version": 3
   },
   "file_extension": ".py",
   "mimetype": "text/x-python",
   "name": "python",
   "nbconvert_exporter": "python",
   "pygments_lexer": "ipython3",
   "version": "3.7.6"
  }
 },
 "nbformat": 4,
 "nbformat_minor": 4
}
