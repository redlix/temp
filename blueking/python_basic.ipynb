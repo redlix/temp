{
 "cells": [
  {
   "cell_type": "code",
   "execution_count": 2,
   "metadata": {
    "collapsed": true,
    "pycharm": {
     "is_executing": false
    }
   },
   "outputs": [
    {
     "data": {
      "text/plain": [
       "int"
      ]
     },
     "execution_count": 2,
     "metadata": {},
     "output_type": "execute_result"
    }
   ],
   "source": [
    "type(1)"
   ]
  },
  {
   "cell_type": "code",
   "execution_count": 3,
   "metadata": {
    "pycharm": {
     "is_executing": false,
     "name": "#%%\n"
    }
   },
   "outputs": [
    {
     "data": {
      "text/plain": [
       "'4294967296'"
      ]
     },
     "execution_count": 3,
     "metadata": {},
     "output_type": "execute_result"
    }
   ],
   "source": [
    "str(2**32)"
   ]
  },
  {
   "cell_type": "code",
   "execution_count": 5,
   "metadata": {
    "pycharm": {
     "is_executing": false,
     "name": "#%%\n"
    }
   },
   "outputs": [
    {
     "data": {
      "text/plain": [
       "4294967296"
      ]
     },
     "execution_count": 5,
     "metadata": {},
     "output_type": "execute_result"
    }
   ],
   "source": [
    "int('4294967296')"
   ]
  },
  {
   "cell_type": "code",
   "execution_count": 7,
   "metadata": {
    "pycharm": {
     "is_executing": false,
     "name": "#%%\n"
    }
   },
   "outputs": [
    {
     "name": "stdout",
     "output_type": "stream",
     "text": [
      "3.14\n"
     ]
    }
   ],
   "source": [
    "print(\"{:.2f}\".format(3.1415926))"
   ]
  },
  {
   "cell_type": "code",
   "execution_count": 8,
   "metadata": {
    "pycharm": {
     "is_executing": false,
     "name": "#%%\n"
    }
   },
   "outputs": [
    {
     "data": {
      "text/plain": [
       "3.14"
      ]
     },
     "execution_count": 8,
     "metadata": {},
     "output_type": "execute_result"
    }
   ],
   "source": [
    "round(3.1415926, 2)"
   ]
  },
  {
   "cell_type": "code",
   "execution_count": 9,
   "metadata": {
    "pycharm": {
     "is_executing": false,
     "name": "#%%\n"
    }
   },
   "outputs": [
    {
     "data": {
      "text/plain": [
       "True"
      ]
     },
     "execution_count": 9,
     "metadata": {},
     "output_type": "execute_result"
    }
   ],
   "source": [
    "float(\"inf\") > 999999999999999999999"
   ]
  },
  {
   "cell_type": "code",
   "execution_count": 10,
   "metadata": {
    "pycharm": {
     "is_executing": false,
     "name": "#%%\n"
    }
   },
   "outputs": [
    {
     "data": {
      "text/plain": [
       "True"
      ]
     },
     "execution_count": 10,
     "metadata": {},
     "output_type": "execute_result"
    }
   ],
   "source": [
    "float(\"-inf\") < 99999999999999999999999\n"
   ]
  },
  {
   "cell_type": "code",
   "execution_count": 11,
   "metadata": {
    "pycharm": {
     "is_executing": false,
     "name": "#%%\n"
    }
   },
   "outputs": [
    {
     "data": {
      "text/plain": [
       "'odd'"
      ]
     },
     "execution_count": 11,
     "metadata": {},
     "output_type": "execute_result"
    }
   ],
   "source": [
    "\"even\" if 3 %2 == 0 else \"odd\""
   ]
  },
  {
   "cell_type": "code",
   "execution_count": 12,
   "metadata": {
    "pycharm": {
     "is_executing": false,
     "name": "#%%\n"
    }
   },
   "outputs": [
    {
     "data": {
      "text/plain": [
       "'i am chinese'"
      ]
     },
     "execution_count": 12,
     "metadata": {},
     "output_type": "execute_result"
    }
   ],
   "source": [
    "' '.join(['i', 'am' , 'chinese'])"
   ]
  },
  {
   "cell_type": "code",
   "execution_count": 13,
   "metadata": {
    "pycharm": {
     "is_executing": false,
     "name": "#%%\n"
    }
   },
   "outputs": [
    {
     "data": {
      "text/plain": [
       "'I am from XIAN, XIAN is beautiful and the capital of shanxi'"
      ]
     },
     "execution_count": 13,
     "metadata": {},
     "output_type": "execute_result"
    }
   ],
   "source": [
    "'I am from {city}, {city} is beautiful and the capital of {province}'.format(city='XIAN', province='shanxi')"
   ]
  },
  {
   "cell_type": "code",
   "execution_count": 14,
   "metadata": {
    "pycharm": {
     "is_executing": false,
     "name": "#%%\n"
    }
   },
   "outputs": [
    {
     "data": {
      "text/plain": [
       "[0, 2, 4, 6, 8]"
      ]
     },
     "execution_count": 14,
     "metadata": {},
     "output_type": "execute_result"
    }
   ],
   "source": [
    "[i for i in range(10) if i %2 == 0]"
   ]
  },
  {
   "cell_type": "code",
   "execution_count": 16,
   "metadata": {
    "pycharm": {
     "is_executing": false,
     "name": "#%%\n"
    }
   },
   "outputs": [
    {
     "name": "stdout",
     "output_type": "stream",
     "text": [
      "(0, 'a') (1, 'b') (2, 'c') (3, 'd') (4, 'e') (5, 'f') "
     ]
    }
   ],
   "source": [
    "a_str='abcdef'\n",
    "for index, char in enumerate(a_str):\n",
    "\tprint((index, char), end=' ')"
   ]
  },
  {
   "cell_type": "code",
   "execution_count": 22,
   "metadata": {
    "pycharm": {
     "is_executing": false,
     "name": "#%%\n"
    }
   },
   "outputs": [
    {
     "name": "stdout",
     "output_type": "stream",
     "text": [
      "g fmnc wms bgblr rpylqjyrc gr zw fylb. rfyrq ufyr ammnsrcpq ypc dmp. bmglg gr gl zw fylb gq glcddgagclr ylb rfyr'q ufw rfgq rcvr gq qm jmlg. sqglg qrpglg.myicrpylq() gq pcammmclbcb. lmu ynnjw ml rfc spj.\n"
     ]
    }
   ],
   "source": [
    "origin_str = \"g fmnc wms bgblr rpylqjyrc gr zw fylb. rfyrq ufyr amknsrcpq ypc dmp. bmgle gr gl zw fylb gq glcddgagclr ylb rfyr'q ufw rfgq rcvr gq qm jmle. sqgle qrpgle.kyicrpylq() gq pcamkkclbcb. lmu ynnjw ml rfc spj.\"\n",
    "str_list = list(origin_str)\n",
    "for index, el in enumerate(str_list):\n",
    "\tif el.lower() == 'k':\n",
    "\t\tstr_list[index] = 'm'\n",
    "\tif el.lower() == 'o':\n",
    "\t\tstr_list[index] = 'q'\n",
    "\tif el.lower() == 'e':\n",
    "\t\tstr_list[index] = 'g'\n",
    "print(''.join(str_list))"
   ]
  },
  {
   "cell_type": "markdown",
   "metadata": {},
   "source": [
    "## 练习题\n",
    "1. 使用Python语法在后台输出一个九九乘法表。\n",
    "\n",
    "2. 写一个交互程序，实现摄氏和华氏温度的相互转换。摄氏温度转华氏温度的公式为： celsius * 1.8 = fahrenheit – 32。\n",
    "提示：input() 函数接受用户的输入，然后通过输入的最后一个字符是 C，还是 F 来区分用户输入的是摄氏温度，还是华氏温度。\n",
    "\n"
   ]
  },
  {
   "cell_type": "markdown",
   "metadata": {
    "pycharm": {
     "name": "#%% md\n"
    }
   },
   "source": [
    "### 九九乘法表"
   ]
  },
  {
   "cell_type": "code",
   "execution_count": 1,
   "metadata": {
    "pycharm": {
     "is_executing": false,
     "name": "#%%\n"
    },
    "scrolled": true
   },
   "outputs": [
    {
     "name": "stdout",
     "output_type": "stream",
     "text": [
      "1 * 1 = 1 \n",
      "1 * 2 = 2 2 * 2 = 4 \n",
      "1 * 3 = 3 2 * 3 = 6 3 * 3 = 9 \n",
      "1 * 4 = 4 2 * 4 = 8 3 * 4 = 12 4 * 4 = 16 \n",
      "1 * 5 = 5 2 * 5 = 10 3 * 5 = 15 4 * 5 = 20 5 * 5 = 25 \n",
      "1 * 6 = 6 2 * 6 = 12 3 * 6 = 18 4 * 6 = 24 5 * 6 = 30 6 * 6 = 36 \n",
      "1 * 7 = 7 2 * 7 = 14 3 * 7 = 21 4 * 7 = 28 5 * 7 = 35 6 * 7 = 42 7 * 7 = 49 \n",
      "1 * 8 = 8 2 * 8 = 16 3 * 8 = 24 4 * 8 = 32 5 * 8 = 40 6 * 8 = 48 7 * 8 = 56 8 * 8 = 64 \n",
      "1 * 9 = 9 2 * 9 = 18 3 * 9 = 27 4 * 9 = 36 5 * 9 = 45 6 * 9 = 54 7 * 9 = 63 8 * 9 = 72 9 * 9 = 81 \n"
     ]
    }
   ],
   "source": [
    "for i in range(1, 10):\n",
    "\tfor j in range(1, i+1):\n",
    "\t\tprint(\"{} * {} = {}\".format(j, i, i*j), end=\" \")\n",
    "\tprint()"
   ]
  },
  {
   "cell_type": "markdown",
   "metadata": {
    "pycharm": {
     "is_executing": false,
     "name": "#%% md\n"
    }
   },
   "source": [
    "### 温度转化"
   ]
  },
  {
   "cell_type": "code",
   "execution_count": 9,
   "metadata": {},
   "outputs": [
    {
     "name": "stdout",
     "output_type": "stream",
     "text": [
      "input a int value:30\n",
      "input F or C(F:fahrenheit;C:celsius.):F\n",
      "the fahrenheit 30 to celsius is -1\n"
     ]
    }
   ],
   "source": [
    "int_value = input(\"input a int value: \")\n",
    "value_type = input(\"input F or C(F:fahrenheit;C:celsius.): \")\n",
    "\n",
    "if value_type == 'C':\n",
    "    print('the celsius {} to fahrenheit is {:.0f}.'.format(int_value, float(int_value) * 1.8 + 32))\n",
    "elif value_type == 'F':\n",
    "    print('the fahrenheit {} to celsius is {:.0f}.'.format(int_value, (float(int_value) - 32) / 1.8))\n",
    "else:\n",
    "    print('input error...')"
   ]
  },
  {
   "cell_type": "code",
   "execution_count": 6,
   "metadata": {
    "pycharm": {
     "is_executing": false
    }
   },
   "outputs": [],
   "source": [
    "result = []\n",
    "\n",
    "with open('/Users/red/Desktop/workspace/project/python/temp/resource/shoes.txt', 'r') as f:\n",
    "\tfor line in f:\n",
    "\t\tline_lst = line.split()\n",
    "\t\tif len(line_lst) == 3 and line_lst[1] == 'black':\n",
    "\t\t\ttemp = {'brand': line_lst[0], 'color': line_lst[1], 'size': line_lst[2]}\n",
    "\t\telif len(line_lst) == 4 and line_lst[2] == 'black':\n",
    "\t\t\ttemp = {'brand': line_lst[0]+\" \"+ line_lst[1], 'color': line_lst[2], 'size': line_lst[3]}\n",
    "\t\telse:\n",
    "\t\t\tcontinue\n",
    "\t\tresult.append(temp)\n",
    "with open('/Users/red/Desktop/workspace/project/python/temp/resource/shoes_result.txt', 'w') as w:\n",
    "\tw.write(str(result))"
   ]
  },
  {
   "cell_type": "markdown",
   "metadata": {
    "pycharm": {
     "name": "#%% md\n"
    }
   },
   "source": [
    "1. 输入一个整数 n，输出 0-n 之间的所有素数\n"
   ]
  },
  {
   "cell_type": "code",
   "execution_count": 19,
   "outputs": [
    {
     "name": "stdout",
     "text": [
      "2 3 5 7 "
     ],
     "output_type": "stream"
    }
   ],
   "source": [
    "int_value = input(\"input int value: \")\n",
    "\n",
    "def is_prime(value):\n",
    "\tif value < 2:\n",
    "\t\treturn False\n",
    "\tfor i in range(2, value):\n",
    "\t\tif value % i == 0:\n",
    "\t\t\treturn False\n",
    "\treturn True\n",
    "\n",
    "for i in range(1, int(int_value) + 1):\n",
    "\tif int_value == 0 or int_value == 1:\n",
    "\t\tcontinue\n",
    "\tif is_prime(i):\n",
    "\t\tprint(i, end=' ')\n",
    "\telse:\n",
    "\t\tcontinue"
   ],
   "metadata": {
    "collapsed": false,
    "pycharm": {
     "name": "#%%\n",
     "is_executing": false
    }
   }
  },
  {
   "cell_type": "code",
   "execution_count": 2,
   "outputs": [
    {
     "name": "stdout",
     "text": [
      "[2, 3, 5, 7, 11, 13, 17, 19, 23, 29, 31, 37, 41, 43, 47, 53, 59, 61, 67, 71, 73, 79, 83, 89, 97, 101, 103, 107, 109]\n"
     ],
     "output_type": "stream"
    }
   ],
   "source": [
    "n = int(input())\n",
    "p = [2]\n",
    "for i in range(3,n):\n",
    "    for j in range(2,int(i**0.5)+1):\n",
    "        if i%j ==0:\n",
    "            break\n",
    "    else:\n",
    "        p.append(i)\n",
    "print(p)\n",
    "\n"
   ],
   "metadata": {
    "collapsed": false,
    "pycharm": {
     "name": "#%%\n",
     "is_executing": false
    }
   }
  },
  {
   "cell_type": "markdown",
   "source": [
    "- 题目：有四个数字：1、2、3、4，能组成多少个互不相同且无重复数字的三位数？各是多少？\n",
    "- 程序分析：可填在百位、十位、个位的数字都是1、2、3、4。组成所有的排列后再去掉不满足条件的排列。"
   ],
   "metadata": {
    "collapsed": false,
    "pycharm": {
     "name": "#%% md\n"
    }
   }
  },
  {
   "cell_type": "code",
   "execution_count": 16,
   "outputs": [
    {
     "name": "stdout",
     "text": [
      "[123, 124, 132, 134, 142, 143, 213, 214, 231, 234, 241, 243, 312, 314, 321, 324, 341, 342, 412, 413, 421, 423, 431, 432]\n"
     ],
     "output_type": "stream"
    }
   ],
   "source": [
    "result = []\n",
    "for i in range(1, 5):\n",
    "\tfor j in range(1, 5):\n",
    "\t\tfor k in range(1, 5):\n",
    "\t\t\tif not( i==j or i==k or j==k):\n",
    "\t\t\t\tresult.append(i*100+j*10+k)\n",
    "\t\t\t# temp = str(i*100+j*10+k)\n",
    "\t\t\t# if not (temp.count(temp[0])>1 or temp.count(temp[1])>1):\n",
    "\t\t\t# \tresult.append(temp)\n",
    "print(result)"
   ],
   "metadata": {
    "collapsed": false,
    "pycharm": {
     "name": "#%%\n",
     "is_executing": false
    }
   }
  },
  {
   "cell_type": "markdown",
   "source": [
    "- 斐波那契数列"
   ],
   "metadata": {
    "collapsed": false,
    "pycharm": {
     "name": "#%% md\n"
    }
   }
  },
  {
   "cell_type": "code",
   "execution_count": 20,
   "outputs": [
    {
     "name": "stdout",
     "text": [
      "55\n"
     ],
     "output_type": "stream"
    }
   ],
   "source": [
    "def fibonacci(num):\n",
    "\tif num == 0:\n",
    "\t\treturn 0\n",
    "\tif num == 1:\n",
    "\t\treturn 1\n",
    "\treturn fibonacci(num - 1) + fibonacci(num - 2)\n",
    "\n",
    "print(fibonacci(10))"
   ],
   "metadata": {
    "collapsed": false,
    "pycharm": {
     "name": "#%%\n",
     "is_executing": false
    }
   }
  },
  {
   "cell_type": "code",
   "execution_count": 25,
   "outputs": [
    {
     "name": "stdout",
     "text": [
      "[0, 1, 1, 2, 3, 5, 8, 13, 21, 34, 55]\n"
     ],
     "output_type": "stream"
    }
   ],
   "source": [
    "def fibonacci1(num):\n",
    "\tresult_fib = [0]\n",
    "\ta = 0\n",
    "\tb = 1\n",
    "\twhile num > 0:\n",
    "\t\tresult_fib.append(b)\n",
    "\t\ta, b = b, a + b\n",
    "\t\tnum -= 1\n",
    "\treturn result_fib\n",
    "\n",
    "print(fibonacci1(10))"
   ],
   "metadata": {
    "collapsed": false,
    "pycharm": {
     "name": "#%%\n",
     "is_executing": false
    }
   }
  },
  {
   "cell_type": "code",
   "execution_count": 26,
   "outputs": [
    {
     "name": "stdout",
     "text": [
      "[0, 1, 1, 2, 3, 5, 8, 13, 21, 34, 55]\n"
     ],
     "output_type": "stream"
    }
   ],
   "source": [
    "def fibonacci2(num):\n",
    "\tresult_fib = [0]\n",
    "\ta = 0\n",
    "\tb = 1\n",
    "\twhile num > 0:\n",
    "\t\tyield b\n",
    "\t\tresult_fib.append(b)\n",
    "\t\ta, b = b, a + b\n",
    "\t\tnum -= 1\n",
    "\treturn result_fib\n",
    "\n",
    "print(fibonacci1(10))\n"
   ],
   "metadata": {
    "collapsed": false,
    "pycharm": {
     "name": "#%%\n",
     "is_executing": false
    }
   }
  }
 ],
 "metadata": {
  "kernelspec": {
   "display_name": "Python 3",
   "language": "python",
   "name": "python3"
  },
  "language_info": {
   "codemirror_mode": {
    "name": "ipython",
    "version": 3
   },
   "file_extension": ".py",
   "mimetype": "text/x-python",
   "name": "python",
   "nbconvert_exporter": "python",
   "pygments_lexer": "ipython3",
   "version": "3.7.5"
  },
  "pycharm": {
   "stem_cell": {
    "cell_type": "raw",
    "source": [],
    "metadata": {
     "collapsed": false
    }
   }
  }
 },
 "nbformat": 4,
 "nbformat_minor": 1
}